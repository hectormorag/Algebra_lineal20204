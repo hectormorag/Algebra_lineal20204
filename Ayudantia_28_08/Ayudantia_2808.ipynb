{
 "cells": [
  {
   "cell_type": "markdown",
   "metadata": {},
   "source": [
    "# Formas bilineales"
   ]
  },
  {
   "cell_type": "markdown",
   "metadata": {},
   "source": [
    "Sea $V$ un espacio vectorial real. Una $\\textit{forma bilineal}$ es una función $B: V \\times V \\rightarrow \\mathbb{R}$ que cumple que: \n",
    "\n",
    "$$B\\left(a v_{1}+b v_{2}, w\\right)=a B\\left(v_{1}, w\\right)+b B\\left(v_{2}, w\\right)$$\n",
    "\n",
    "y \n",
    "\n",
    "$$B\\left(v, a w_{1}+b w_{2}\\right)=a B\\left(v, w_{1}\\right)+b B\\left(v, w_{2}\\right)$$.\n",
    "\n",
    "para cualquier $a,b \\in \\mathbb{R}$ y para cualquier $v_{1}, v_{2}, v, w_{1}, w_{2}, w \\in V$.\n",
    "\n",
    "Nota: $V \\times V=\\{(v, w) \\mid v, w \\in V\\}$"
   ]
  },
  {
   "cell_type": "markdown",
   "metadata": {},
   "source": [
    "Adicionalmente, una forma bilineal es simétrica si se cumple que $B(v,w)=B(w,v)$ para todo $v,w \\in V$."
   ]
  },
  {
   "cell_type": "markdown",
   "metadata": {},
   "source": [
    "1. Hallar la matriz asociada de la forma bilineal $f: \\mathbb{R}^{3} \\times \\mathbb{R}^{3} \\rightarrow \\mathbb{R}$ definida por\n",
    "\n",
    "$$f\\left(\\left(x_{1}, x_{2}, x_{3}\\right),\\left(y_{1}, y_{2}, y_{3}\\right)\\right)=3 x_{1} y_{1}-2 x_{1} y_{2}+5 x_{2} y_{1}+7 x_{2} y_{2}-8 x_{2} y_{3}+4 x_{3} y_{2}-x_{3} y_{3}$$\n",
    "\n",
    "respecto de la base\n",
    "\n",
    "$$\\mathfrak{B}_{\\mathbb{R}^{3}}=\\{(2,1,0),(1,1,1),(0,0,1)\\}$$.\n",
    "\n",
    "Sea $A \\in \\operatorname{Mat}_{3 \\times 3}(\\mathbb{R})$ la matriz asociada a la forma bilineal $f$ respecto de la base $\\mathfrak{B}_{\\mathbb{R}^{3}}$. Por definición de matriz asociada a una forma bilineal, el elemento $a_{i j}$ de la matriz es $f\\left(v_{i}, v_{j}\\right) .$ Por tanto,\n",
    "\n",
    "\n",
    "$$\\begin{array}{l}\n",
    "f((2,1,0),(2,1,0))=25 \\\\\n",
    "f((2,1,0),(1,1,1))=6 \\\\\n",
    "f((2,1,0),(0,0,1))=-8\n",
    "\\end{array}$$\n",
    "\n",
    "$$\\begin{array}{l}\n",
    "f((1,1,1),(2,1,0))=25 \\\\\n",
    "f((1,1,1),(1,1,1))=8 \\\\\n",
    "f((1,1,1),(0,0,1))=-9\n",
    "\\end{array}$$\n",
    "\n",
    "$$\\begin{array}{l}\n",
    "f((0,0,1),(2,1,0))=4 \\\\\n",
    "f((0,0,1),(2,1,0))=4 \\\\\n",
    "f((0,0,1),(0,0,1))=-1\n",
    "\\end{array}$$\n",
    "\n",
    "Por lo tanto la matriz que buscamos es:\n",
    "\n",
    "$$A=\\left(\\begin{array}{ccc}\n",
    "25 & 6 & -8 \\\\\n",
    "25 & 8 & -9 \\\\\n",
    "4 & 4 & -1\n",
    "\\end{array}\\right)$$"
   ]
  },
  {
   "cell_type": "markdown",
   "metadata": {},
   "source": [
    "# Formas cuadráticas"
   ]
  },
  {
   "cell_type": "markdown",
   "metadata": {},
   "source": [
    "Definición (forma cuadrática). Sea $V$ un espacio vectorial real. Una función $q: V \\rightarrow$ $\\mathbb{R}$ se llama forma cuadrática en $V$ si existe una forma bilineal simétrica $f \\in \\mathcal{B} \\mathcal{L}_{s}(V)$ tal\n",
    "que\n",
    "\n",
    "$$\n",
    "\\forall x \\in V \\quad q(x)=f(x, x)\n",
    "$$\n",
    "\n",
    "En esta situación se dice que $q$ es la forma cuadrática asociada a la forma bilineal $f, y$ que $f$ es la forma bilineal polar de $q .$ Al conjunto de todas las formas cuadráticas en $V$ lo denotemos por $\\mathcal{Q}(V)$."
   ]
  },
  {
   "cell_type": "markdown",
   "metadata": {},
   "source": [
    "1. Encuentre la forma cuadrática asociada a la siguiente transformación bilinear simétrica:\n",
    "\n",
    "$$f(x, y)=3 x_{1} y_{1}-5 x_{1} y_{2}-5 x_{2} y_{1}+x_{2} y_{2}$$\n",
    "\n",
    "$$q(x)=f(x,x)=f((x_1,x_2), (x_1, x_2))=3 x_{1} x_{1}-5 x_{1} x_{2}-5 x_{2} x_{1}+x_{2} x_{2}=3 x_{1}^{2}-10 x_{1} x_{2}+x_{2}^{2}$$"
   ]
  },
  {
   "cell_type": "markdown",
   "metadata": {},
   "source": [
    "2. Encuentre la forma cuadrática asociada a la siguiente transformación bilinear simétrica:\n",
    "\n",
    "$$f((a, b, c),(d, e, f))=a d+4 a e+5 a f+4 b e+2 b f+5 c d+2 c e+9 c f$$\n",
    "\n",
    "$$q(x)=f(x,x)=((j, k, l),(j, k, l))_{X}=j^{2}+8 j k+10 j l+4 l k+9 l^{2}$$"
   ]
  },
  {
   "cell_type": "markdown",
   "metadata": {},
   "source": [
    "# Transformación transpuesta"
   ]
  },
  {
   "cell_type": "markdown",
   "metadata": {},
   "source": [
    "1. Se considera la aplicación lineal $D: \\mathbb{R}_{3}[x] \\rightarrow \\mathbb{R}_{2}[x], D(p)=p^{\\prime} .$ Hallar la matriz de la aplicación transpuesta $D^{T}$ respecto de las bases canónicas de $\\mathbb{R}_{2}[x]$ y $\\mathbb{R}_{3}[x]$."
   ]
  },
  {
   "cell_type": "markdown",
   "metadata": {},
   "source": [
    "Llamemos $B_{1}$ y $B_{2}$ a las bases canónicas de $\\mathbb{R}_{3}[x]$ y $\\mathbb{R}_{2}[x]$ respectivamente:\n",
    "\n",
    "$$\n",
    "B_{1}=\\left\\{1, x, x^{2}, x^{3}\\right\\}, \\quad B_{2}=\\left\\{1, x, x^{2}\\right\\}\n",
    "$$\n",
    "\n",
    "Tenemos: $D(1)=0, D(x)=1, D\\left(x^{2}\\right)=2 x, D\\left(x^{3}\\right)=3 x^{2} .$ Trasponiendo\n",
    "coeficientes,\n",
    "\n",
    "$$\n",
    "[D]_{B_{1}}^{B_{2}}=\\left[\\begin{array}{cccc}\n",
    "0 & 1 & 0 & 0 \\\\\n",
    "0 & 0 & 2 & 0 \\\\\n",
    "0 & 0 & 0 & 3\n",
    "\\end{array}\\right]\n",
    "$$\n",
    "\n",
    "por tanto la matriz pedida es la traspuesta de la anterior:\n",
    "\n",
    "$$\n",
    "\\left[D^{T}\\right]_{B_{2}^{*}}^{B_{1}^{*}}=\\left([D]_{B_{1}}^{B_{2}}\\right)^{T}=\\left[\\begin{array}{ccc}\n",
    "0 & 0 & 0 \\\\\n",
    "1 & 0 & 0 \\\\\n",
    "0 & 2 & 0 \\\\\n",
    "0 & 0 & 3\n",
    "\\end{array}\\right]\n",
    "$$"
   ]
  },
  {
   "cell_type": "markdown",
   "metadata": {},
   "source": [
    "2. Muestra que la transpuesta de la transformación identidad es la identidad."
   ]
  },
  {
   "cell_type": "markdown",
   "metadata": {},
   "source": [
    "Consideremos la transformación identidad:\n",
    "\n",
    "$$T(x,y)=(x,y)$$\n",
    "\n",
    "Si evaluamos en los vectores canónicos:\n",
    "\n",
    "$$T(e_1)=T([1,0])=(1,0)$$\n",
    "\n",
    "$$T(e_2)=T([0,1])=(0,1)$$\n",
    "\n",
    "Si formamos una matriz haciendo los vectores que obtuvimos vectores columna, obtenemos la siguiente matriz:\n",
    "\n",
    "$$I_{2}=\\left[\\begin{array}{ll}\n",
    "1 & 0 \\\\\n",
    "0 & 1\n",
    "\\end{array}\\right]$$\n",
    "\n",
    "Recordando el teorema que vimos en el blog: la matriz asociada a la transformación transpuesta es la transpuesta de la matriz asociada a la transformación sin transponer. Tenemos que hacer entonces la transpuesta de la identidad:\n",
    "\n",
    "$$I_{2}^T=\\left[\\begin{array}{ll}\n",
    "1 & 0 \\\\\n",
    "0 & 1\n",
    "\\end{array}\\right]$$\n",
    "\n",
    "Por lo tando, la transpuesta de la transformación identidad es la identidad. "
   ]
  },
  {
   "cell_type": "markdown",
   "metadata": {},
   "source": [
    "3. Muestra que la transpuesta de la transformación lineal $T: \\mathbb{R}^{2} \\rightarrow \\mathbb{R}^{2}$ dada por $T(x, y)=(7 x+8 y, 6 x+7 y)$ es invertible. Encuentra a su transpuesta y a la inversa de la transpuesta explícitamente."
   ]
  },
  {
   "cell_type": "markdown",
   "metadata": {},
   "source": [
    "Para demostrar que es invertible obtengamos su matriz asociada: \n",
    "\n",
    "$$T(e_1)=T([1,0])=(7,6)$$\n",
    "\n",
    "y\n",
    "\n",
    "$$T(e_2)=T([0,1])=(8,7)$$\n",
    "\n",
    "Formando una matriz con los vectores columna que obtuvimos:\n",
    "\n",
    "$$A=\\left(\\begin{array}{ll}\n",
    "7 & 8 \\\\\n",
    "6 & 7\n",
    "\\end{array}\\right)$$\n",
    "\n",
    "Si calculamos su transpuesta, obtenemos la siguiente matriz:\n",
    "\n",
    "$$A^t=\\left(\\begin{array}{ll}\n",
    "7 & 6 \\\\\n",
    "8 & 7\n",
    "\\end{array}\\right)$$\n",
    "\n",
    "Luego, si calculamos su inversa: \n",
    "\n",
    "$$(A^t)^{-1}=\\left(\\begin{array}{cc}\n",
    "7 & -6 \\\\\n",
    "-8 & 7\n",
    "\\end{array}\\right)$$\n",
    "\n",
    "La matriz asociada a su trasformación transpuesta es invertible, entonces la transpuesta de la transformación lineal es invertible."
   ]
  },
  {
   "cell_type": "markdown",
   "metadata": {},
   "source": [
    "# Bases duales"
   ]
  },
  {
   "cell_type": "markdown",
   "metadata": {},
   "source": [
    "1. Sea $\\beta=\\left\\{x_{1}, x_{2}\\right\\}=\\{(2,1),(3,1)\\}$ una base de $\\mathbb{R}^{2}$. Podemos encontrar la base dual de $\\beta$ dada por $\\beta'=\\{f_1,f_2\\}$, buscando los funcionales \n",
    "\n",
    "$$f_{1}\\left(\\xi_{1}, \\xi_{2}\\right)=a_{1} \\xi_{1}+a_{2} \\xi_{2} \\quad \\text { y } \\quad f_{2}\\left(\\xi_{1}, \\xi_{2}\\right)=b_{1} \\xi_{1}+b_{2} \\xi_{2}$$\n",
    "\n",
    "tales que, \n",
    "\n",
    "$$f_{1}\\left(x_{1}\\right)=1, \\quad f_{1}\\left(x_{2}\\right)=0, \\quad f_{2}\\left(x_{1}\\right)=0, \\quad f_{2}\\left(x_{2}\\right)=1$$. Entonces, \n",
    "\n",
    "$$\\left\\{\\begin{array}{l}\n",
    "1=f_{1}\\left(x_{1}\\right)=f(2,1)=2 a_{1}+a_{2} \\\\\n",
    "0=f_{1}\\left(x_{2}\\right)=f(3,1)=3 a_{1}+a_{2}\n",
    "\\end{array} \\quad\\left\\{\\begin{array}{l}\n",
    "0=f_{2}\\left(x_{1}\\right)=f(2,1)=2 b_{1}+b_{2} \\\\\n",
    "1=f_{2}\\left(x_{2}\\right)=f(3,1)=3 b_{1}+b_{2}\n",
    "\\end{array}\\right.\\right.$$\n",
    "\n",
    "Solucionado nuestros sistemas de ecuaciones: \n",
    "\n",
    "$$a_{1}=-1, a_{2}=3 \\text { y } b_{1}=1, b_{2}=-2$$\n",
    "\n",
    "Por lo tanto, los elementos de la base dual son: \n",
    "\n",
    "$$f_{1}\\left(\\xi_{1}, \\xi_{2}\\right)=-1 \\xi_{1}+3 \\xi_{2} \\quad \\text { y } \\quad f_{2}\\left(\\xi_{1}, \\xi_{2}\\right)=1 \\xi_{1}-2 \\xi_{2}$$"
   ]
  },
  {
   "cell_type": "markdown",
   "metadata": {},
   "source": [
    "2. Sea $\\beta=\\left\\{x_{1}, x_{2}, x_{3}\\right\\}=\\{(1,0,1),(0,2,0),(-1,0,2)\\}$ una base de $\\mathbb{R}^{3}$. Podemos encontrar la base dual de $\\beta$ dada por $\\beta^{\\prime}=\\left\\{f_{1}, f_{2}, f_{3}\\right\\}$ encontrando los funcionales $f_{1}\\left(\\xi_{1}, \\xi_{2}, \\xi_{3}\\right)=a_{1} \\xi_{1}+a_{2} \\xi_{2}+a_{3} \\xi_{3}$, $f_{2}\\left(\\xi_{1}, \\xi_{2}, \\xi_{3}\\right)=b_{1} \\xi_{1}+b_{2} \\xi_{2}+b_{3} \\xi_{3}$ tales que $f_i(x_j)=\\delta_{ij}$:\n",
    "\n",
    "$$\\left\\{\\begin{array}{l}\n",
    "1=f_{1}\\left(x_{1}\\right)=f(1,0,1)=a_{1}+a_{3} \\\\\n",
    "0=f_{1}\\left(x_{2}\\right)=f(0,2,0)=2 a_{2} \\\\\n",
    "0=f_{1}\\left(x_{3}\\right)=f(-1,0,2)=-a_{1}+2 a_{3}\n",
    "\\end{array}\\right.$$\n",
    "\n",
    "$$\\left\\{\\begin{array}{l}\n",
    "0=f_{2}\\left(x_{1}\\right)=f(1,0,1)=b_{1}+b_{3} \\\\\n",
    "1=f_{2}\\left(x_{2}\\right)=f(0,2,0)=2 b_{2} \\\\\n",
    "0=f_{2}\\left(x_{3}\\right)=f(-1,0,2)=-b_{1}+2 b_{3}\n",
    "\\end{array}\\right.$$\n",
    "\n",
    "$$\\left\\{\\begin{array}{l}\n",
    "0=f_{3}\\left(x_{1}\\right)=f(1,0,1)=c_{1}+c_{3} \\\\\n",
    "0=f_{3}\\left(x_{2}\\right)=f(0,2,0)=2 c_{2} \\\\\n",
    "1=f_{3}\\left(x_{3}\\right)=f(-1,0,2)=-c_{1}+2 c_{3}\n",
    "\\end{array}\\right.$$\n",
    "\n",
    "$$\\begin{aligned}\n",
    "\\text {Entonces } & a_{1}=\\frac{2}{3}, a_{2}=0, a_{3}=\\frac{1}{3} \\\\\n",
    "& b_{1}=0, b_{2}=\\frac{1}{2}, b_{3}=0 \\\\\n",
    "& c_{1}=-\\frac{1}{3}, c_{2}=0, c_{3}=\\frac{1}{3}\n",
    "\\end{aligned}$$\n",
    " \n",
    "\n",
    "$$\\begin{aligned}\n",
    "&\\text { Así } \\quad f_{1}\\left(\\xi_{1}, \\xi_{2}, \\xi_{3}\\right)=\\frac{2}{3} \\xi_{1}+\\frac{1}{3} \\xi_{3}, \\quad f_{2}\\left(\\xi_{1}, \\xi_{2}, \\xi_{3}\\right)=\\frac{1}{2} \\xi_{2}, \\quad f_{3}\\left(\\xi_{1}, \\xi_{2}, \\xi_{3}\\right)=-\\frac{1}{3} \\xi_{1}+\\frac{1}{3} \\xi_{3}\\\\\n",
    "&\\text {or } f_{1}=\\left(\\frac{2}{3}, 0, \\frac{1}{3}\\right), f_{2}=\\left(0, \\frac{1}{2}, 0\\right), f_{3}=\\left(-\\frac{1}{3}, 0, \\frac{1}{3}\\right), \\text { form the dual basis.}\n",
    "\\end{aligned}$$"
   ]
  },
  {
   "cell_type": "markdown",
   "metadata": {},
   "source": [
    "3. Considera las siguientes forma lineales en $\\mathbb{R}^{3}$. \n",
    "\n",
    "$$\\begin{array}{l}\n",
    "l_{1}(x, y, z)=x-y \\\\\n",
    "l_{2}(x, y, z)=y-z \\\\\n",
    "l_{3}(x, y, z)=x+y-z\n",
    "\\end{array}$$\n",
    "\n",
    "a) Prueba que $l_1,l_2$ y $l_3$ forman una base dual de $\\mathbb{R}^{3}$.\n",
    "\n",
    "b) Encuentra una base de $\\mathbb{R}^{3}$ cuya base dual es $l_1,l_2$ y $l_3$."
   ]
  },
  {
   "cell_type": "markdown",
   "metadata": {},
   "source": [
    "Sabemos que $l_1,l_2$ y $l_3$ forman una base dual si la matriz $A=\\left[l_{i}\\left(e_{j}\\right)\\right]$ es invertible, donde $e_j$ son las bases canónicas de $\\mathbb{R}^{3}$. Para mostrar que es invertible, calcularemos $(A|I)$:"
   ]
  },
  {
   "cell_type": "markdown",
   "metadata": {},
   "source": [
    "$$\\rightarrow\\left(\\begin{array}{ccc|ccc}\n",
    "1 & -1 & 0 & 1 & 0 & 0 \\\\\n",
    "0 & 1 & -1 & 0 & 1 & 0 \\\\\n",
    "1 & 1 & -1 & 0 & 0 & 1\n",
    "\\end{array}\\right)$$\n",
    "\n",
    "Entonces, \n",
    "\n",
    "$$\\left(\\begin{array}{ccc|ccc}\n",
    "1 & -1 & 0 & 1 & 0 & 0 \\\\\n",
    "0 & 1 & -1 & 0 & 1 & 0 \\\\\n",
    "0 & 2 & -1 & -1 & 0 & 1\n",
    "\\end{array}\\right)$$\n",
    "\n",
    "luego, \n",
    "\n",
    "$$\\left(\\begin{array}{ccc|ccc}\n",
    "1 & -1 & 0 & 1 & 0 & 0 \\\\\n",
    "0 & 1 & -1 & 0 & 1 & 0 \\\\\n",
    "0 & 0 & 1 & -1 & -2 & 1\n",
    "\\end{array}\\right)$$\n",
    "\n",
    "finamente, \n",
    "\n",
    "$$\\left(\\begin{array}{ccc|ccc}\n",
    "1 & 0 & 0 & 0 & -1 & 1 \\\\\n",
    "0 & 1 & 0 & -1 & -1 & 1 \\\\\n",
    "0 & 0 & 1 & -1 & -2 & 1\n",
    "\\end{array}\\right)$$\n",
    "\n",
    "Con esto concluimos que $A$ es invertible y $l_1,l_2$ y $l_3$ forman una base dual."
   ]
  },
  {
   "cell_type": "markdown",
   "metadata": {},
   "source": [
    "La base de $\\mathbb{R}^{3}$ que estamos buscando serán las columnas de nuestra matriz inversa:\n",
    "\n",
    "$$A^{-1}=\\left(\\begin{array}{ccc}\n",
    "0 & -1 & 1 \\\\\n",
    "-1 & -1 & 1 \\\\\n",
    "-1 & -2 & 1\n",
    "\\end{array}\\right)$$\n",
    "\n",
    "Entonces la base será el conjunto $\\beta=\\{v_1,v_2,v_3\\}$ tal que, \n",
    "\n",
    "$$v_{1}=\\left(\\begin{array}{c}\n",
    "0 \\\\\n",
    "-1 \\\\\n",
    "-1\n",
    "\\end{array}\\right), v_{2}=\\left(\\begin{array}{c}\n",
    "-1 \\\\\n",
    "-1 \\\\\n",
    "-2\n",
    "\\end{array}\\right), v_{3}=\\left(\\begin{array}{l}\n",
    "1 \\\\\n",
    "1 \\\\\n",
    "1\n",
    "\\end{array}\\right)$$"
   ]
  }
 ],
 "metadata": {
  "kernelspec": {
   "display_name": "Python 3",
   "language": "python",
   "name": "python3"
  },
  "language_info": {
   "codemirror_mode": {
    "name": "ipython",
    "version": 3
   },
   "file_extension": ".py",
   "mimetype": "text/x-python",
   "name": "python",
   "nbconvert_exporter": "python",
   "pygments_lexer": "ipython3",
   "version": "3.7.6"
  }
 },
 "nbformat": 4,
 "nbformat_minor": 4
}
